{
 "cells": [
  {
   "cell_type": "code",
   "execution_count": 1,
   "metadata": {
    "collapsed": false,
    "deletable": true,
    "editable": true
   },
   "outputs": [
    {
     "name": "stderr",
     "output_type": "stream",
     "text": [
      "/Users/kurt/anaconda2/envs/tensorflow/lib/python2.7/site-packages/gensim/utils.py:1015: UserWarning: Pattern library is not installed, lemmatization won't be available.\n",
      "  warnings.warn(\"Pattern library is not installed, lemmatization won't be available.\")\n"
     ]
    }
   ],
   "source": [
    "from gensim.models import word2vec\n",
    "import tensorflow as tf\n",
    "import numpy\n",
    "\n",
    "model = word2vec.Word2Vec.load_word2vec_format(\"../embeddings/GoogleNews-vectors-negative300.bin.gz\", binary=True)"
   ]
  },
  {
   "cell_type": "code",
   "execution_count": 53,
   "metadata": {
    "collapsed": false,
    "deletable": true,
    "editable": true
   },
   "outputs": [],
   "source": [
    "# a = model['What']*model['kind']*model['bug']*model['is']*model['this']\n",
    "# b = model['What']*model['kind']*model['socket']*model['is']*model['this']\n",
    "\n",
    "# a = model['What']+model['kind']+model['bug']+model['is']+model['this']\n",
    "# b = model['What']+model['kind']+model['socket']+model['is']+model['this']\n",
    "\n",
    "a = model['bug']\n",
    "b = model['socket']\n",
    "\n",
    "# a = model['Thus']+model['the']+model['program']+model['is']+model['the']+model['best']+model['plan']+model['for']\\\n",
    "#     +model['action']+model['that']+model['is']+model['produced']\n",
    "# b = model['After']+model['this']+model['it']+model['is']+model['using']+model['this']+model['pick']\\\n",
    "#     +model['the']+model['best']+model['overall']+model['path']\n",
    "\n",
    "# a = model['Things']+model['Know']+model['for']+model['Wednesday']\n",
    "# b = model['Places']+model['I']+model['go']+model['this']+model['Thursday']\n",
    "# a = model['The']+model['shares']+model['the']+model['company']+model['dropped']\n",
    "# b = model['The']+model['stocks']+model['slumped']\n",
    "\n"
   ]
  },
  {
   "cell_type": "code",
   "execution_count": 54,
   "metadata": {
    "collapsed": false,
    "deletable": true,
    "editable": true
   },
   "outputs": [],
   "source": [
    "prediction=tf.exp(tf.mul(-1.0,tf.reduce_mean(tf.abs(tf.sub(a, b)),0)))\n",
    "# prediction=tf.exp(tf.mul(-1.0,tf.reduce_mean(tf.abs(tf.sub(c, d)),0)))\n",
    "# prediction2=tf.exp(tf.mul(-1.0,tf.reduce_mean(tf.square(tf.sub(a, b)),0)))\n",
    "# prediction = model.similarity('socket', 'bug')\n",
    "# print prediction\n",
    "# prediction = tf.nn.l2_loss(c-d)"
   ]
  },
  {
   "cell_type": "code",
   "execution_count": 55,
   "metadata": {
    "collapsed": false,
    "deletable": true,
    "editable": true
   },
   "outputs": [
    {
     "name": "stdout",
     "output_type": "stream",
     "text": [
      "0.817613\n"
     ]
    }
   ],
   "source": [
    "# from scipy import spatial\n",
    "\n",
    "# result = 1 - spatial.distance.cosine(a, b)\n",
    "# s = tf.nn.sigmoid(result)\n",
    "sess = tf.Session()\n",
    "# print(sess.run(s))\n",
    "print(sess.run(prediction))\n",
    "# print(sess.run(prediction2))\n",
    "# print(cosine_similarity(a,b))"
   ]
  },
  {
   "cell_type": "code",
   "execution_count": null,
   "metadata": {
    "collapsed": true,
    "deletable": true,
    "editable": true
   },
   "outputs": [],
   "source": [
    "'''\n",
    "The problem is with the similarity function because it produces big similarity value between two words which \n",
    "actually based on the similarity function in gensim the two words have very small similarity value.\n",
    "'''"
   ]
  }
 ],
 "metadata": {
  "anaconda-cloud": {},
  "kernelspec": {
   "display_name": "Python [conda env:tensorflow]",
   "language": "python",
   "name": "conda-env-tensorflow-py"
  },
  "language_info": {
   "codemirror_mode": {
    "name": "ipython",
    "version": 2
   },
   "file_extension": ".py",
   "mimetype": "text/x-python",
   "name": "python",
   "nbconvert_exporter": "python",
   "pygments_lexer": "ipython2",
   "version": "2.7.12"
  }
 },
 "nbformat": 4,
 "nbformat_minor": 2
}
