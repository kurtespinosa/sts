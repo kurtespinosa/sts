{
 "cells": [
  {
   "cell_type": "code",
   "execution_count": 18,
   "metadata": {
    "collapsed": false
   },
   "outputs": [
    {
     "name": "stdout",
     "output_type": "stream",
     "text": [
      "5265\n",
      "4738\n"
     ]
    }
   ],
   "source": [
    "'''\n",
    "file1, percentage train -> file2, file3\n",
    "Given a file and test percentage, return a file2 as training file and file3 as test file.\n",
    "'''\n",
    "\n",
    "import numpy as np\n",
    "from sklearn.model_selection import train_test_split\n",
    "import util\n",
    "import sys\n",
    "\n",
    "\n",
    "def split(file, train_size, isSick):\n",
    "    samples, labels = util.extractRowsToListWithLabels(file, isSick)\n",
    "    print(len(samples))\n",
    "    X_train, X_test = train_test_split(samples, train_size=float(train_size), random_state=42)\n",
    "    print(len(X_train))\n",
    "    util.writeListToFile(list(X_train), file + \"_\"+str(train_size))\n",
    "\n",
    "\n",
    "split(\"../data/STS/train.tsv\", .9, False)"
   ]
  },
  {
   "cell_type": "code",
   "execution_count": null,
   "metadata": {
    "collapsed": true
   },
   "outputs": [],
   "source": []
  }
 ],
 "metadata": {
  "anaconda-cloud": {},
  "kernelspec": {
   "display_name": "Python [conda root]",
   "language": "python",
   "name": "conda-root-py"
  },
  "language_info": {
   "codemirror_mode": {
    "name": "ipython",
    "version": 2
   },
   "file_extension": ".py",
   "mimetype": "text/x-python",
   "name": "python",
   "nbconvert_exporter": "python",
   "pygments_lexer": "ipython2",
   "version": "2.7.12"
  }
 },
 "nbformat": 4,
 "nbformat_minor": 1
}
